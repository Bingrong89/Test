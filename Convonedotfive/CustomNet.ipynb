{
 "cells": [
  {
   "cell_type": "code",
   "execution_count": null,
   "metadata": {},
   "outputs": [],
   "source": [
    "import torch\n",
    "import torch.nn as nn\n",
    "import torch.nn.functional as F\n",
    "from custom_conv import better_compute3 as bc\n",
    "import time\n",
    "import sys"
   ]
  },
  {
   "cell_type": "markdown",
   "metadata": {},
   "source": [
    "## yes yes... odd numbered feature maps\n",
    "## magic number 128 for now.. layer depth is still magic in academia anw"
   ]
  },
  {
   "cell_type": "code",
   "execution_count": null,
   "metadata": {},
   "outputs": [],
   "source": [
    "class CustomNet(nn.Module):\n",
    "    def __init__(self):\n",
    "        super(CustomNet,self).__init__()\n",
    "        #pytorch..(in_channels,out_channels,kernel_size,stride=1,padding=0)\n",
    "    #    self.a1 = nn.Conv2d(3,30,1) #transform 969\n",
    "     #   self.a2 = nn.Conv2d(30,45,3,3,dilation=2) #customconv 969->645 \n",
    "        \n",
    "        self.a3 = nn.Conv2d(3,30,1) #transform 645\n",
    "        self.a4 = nn.Conv2d(30,45,3,3,dilation=2) #customconv 645->429\n",
    "        \n",
    "        self.a5 = nn.Conv2d(3,45,1) #transform 429\n",
    "        self.a6 = nn.Conv2d(45,68,3,3,dilation=2) #custom 429->285\n",
    "        \n",
    "        self.a7 = nn.Conv2d(3,68,1) #transform 285\n",
    "        self.a8 =nn.Conv2d(68,102,3,3,dilation=2) #285->189\n",
    "        \n",
    "        self.a9 = nn.Conv2d(102,153,3,3,dilation=2) #189->125\n",
    "        \n",
    "        #normal things...\n",
    "        self.conv1 = nn.Conv2d(153,153,3) #125->123\n",
    "        self.a10 = nn.Conv2d(153,230,3,3,dilation=2) #123->81\n",
    "        self.a11 =nn.Conv2d(230,345,3,3,dilation=2) #81->53\n",
    "        self.conv2 = nn.Conv2d(345,345,3) #53->51\n",
    "        self.a12 = nn.Conv2d(345,345,3,3,dilation=2) #51->33  more possibilities ..33->21 21->13\n",
    "        \n",
    "        self.a13= nn.Conv2d(345,345,3,3,dilation=2) #33->21\n",
    "        self.a14 = nn.Conv2d(345,345,3,3,dilation=2) #21->13\n",
    "        \n",
    "        self.fc1 = nn.Linear(345*13*13,2048)\n",
    "        self.fc2 = nn.Linear(2048,10) #10 classes.. \n",
    "        \n",
    "        \n",
    "    def forward(self,x):\n",
    "        #try one fwd pass with 1x3x969x969 input\n",
    "   #     x = F.relu(self.a1(x))\n",
    "    #    x = bc(x) #this intermediate product can be destroyed immediately to free up memory,backprop still works fine\n",
    "     #   x = F.relu(self.a2(x))\n",
    "        if x.size()[2] and x.size()[3] == 645:\n",
    "            x = self.a3(x)\n",
    "            x = self.a4(bc(x)) #645->429\n",
    "            x = self.a6(bc(x))\n",
    "        \n",
    "        elif x.size()[2] and x.size()[3] == 429:\n",
    "            x = self.a5(x)\n",
    "            x = self.a6(bc(x))\n",
    "            \n",
    "        elif x.size()[2] and x.size()[3] == 285: \n",
    "            x = self.a7(x)\n",
    "        \n",
    "        else:\n",
    "            raise Exception(\"Input HxW of %f x %f is invalid\" %(x.size()[2],x.size()[3]))\n",
    "        \n",
    "        x = self.a8(bc(x))     \n",
    "        x = self.a9(bc(x))      \n",
    "        x = F.relu(self.conv1(x))\n",
    "        x = self.a10(bc(x))     \n",
    "        x = self.a11(bc(x)) # mmmm...       \n",
    "        x = F.relu(self.conv2(x))        \n",
    "        x = self.a12(bc(x))        \n",
    "        x = self.a13(bc(x)) #mmmm...       \n",
    "        x = self.a14(bc(x))      \n",
    "        x = F.relu(self.fc1(x.view(x.size()[0],-1)))      \n",
    "        x = F.relu(self.fc2(x))\n",
    "       \n",
    "        return x\n",
    "        "
   ]
  },
  {
   "cell_type": "code",
   "execution_count": null,
   "metadata": {},
   "outputs": [],
   "source": [
    "model = CustomNet()"
   ]
  },
  {
   "cell_type": "code",
   "execution_count": null,
   "metadata": {},
   "outputs": [],
   "source": [
    "jaja = torch.randn(1,3,429,429)"
   ]
  },
  {
   "cell_type": "code",
   "execution_count": null,
   "metadata": {},
   "outputs": [],
   "source": [
    "jaja=jaja*1000"
   ]
  },
  {
   "cell_type": "code",
   "execution_count": null,
   "metadata": {},
   "outputs": [],
   "source": [
    "out1 = model(jaja)"
   ]
  },
  {
   "cell_type": "code",
   "execution_count": null,
   "metadata": {},
   "outputs": [],
   "source": [
    "optimizer = torch.optim.Adadelta(model.parameters())\n",
    "ans = torch.tensor([5],dtype=torch.long)\n",
    "criterion = nn.CrossEntropyLoss()"
   ]
  },
  {
   "cell_type": "code",
   "execution_count": null,
   "metadata": {},
   "outputs": [],
   "source": [
    "loss = criterion(out1,ans)"
   ]
  },
  {
   "cell_type": "code",
   "execution_count": null,
   "metadata": {},
   "outputs": [],
   "source": [
    "loss.backward()"
   ]
  },
  {
   "cell_type": "code",
   "execution_count": null,
   "metadata": {},
   "outputs": [],
   "source": [
    "optimizer.step()"
   ]
  },
  {
   "cell_type": "code",
   "execution_count": null,
   "metadata": {},
   "outputs": [],
   "source": [
    "model.a9.weight.grad"
   ]
  },
  {
   "cell_type": "code",
   "execution_count": null,
   "metadata": {},
   "outputs": [],
   "source": []
  }
 ],
 "metadata": {
  "kernelspec": {
   "display_name": "Python 3",
   "language": "python",
   "name": "python3"
  },
  "language_info": {
   "codemirror_mode": {
    "name": "ipython",
    "version": 3
   },
   "file_extension": ".py",
   "mimetype": "text/x-python",
   "name": "python",
   "nbconvert_exporter": "python",
   "pygments_lexer": "ipython3",
   "version": "3.6.5"
  }
 },
 "nbformat": 4,
 "nbformat_minor": 2
}
